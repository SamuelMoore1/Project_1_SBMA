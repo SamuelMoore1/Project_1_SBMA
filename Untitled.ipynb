{
 "cells": [
  {
   "cell_type": "code",
   "execution_count": 1,
   "id": "c3da2071-2301-4841-8cbe-caa97a13aed2",
   "metadata": {},
   "outputs": [],
   "source": [
    "import os\n",
    "from dotenv import load_dotenv\n",
    "from CB_api import CoinbaseClient\n",
    "import requests\n",
    "import json\n",
    "import sys\n",
    "from os.path import join, dirname\n",
    "from dotenv import load_dotenv\n",
    "from pathlib import Path"
   ]
  },
  {
   "cell_type": "code",
   "execution_count": 5,
   "id": "aa7b0f4b-2fe1-46ea-adbb-52c9e67f4a12",
   "metadata": {},
   "outputs": [
    {
     "data": {
      "text/plain": [
       "True"
      ]
     },
     "execution_count": 5,
     "metadata": {},
     "output_type": "execute_result"
    }
   ],
   "source": [
    "#dotenv_path = join(dirname(__file__), './/.idea//inspectionProfiles//.env')\n",
    "#print(dotenv_path)\n",
    "load_dotenv()"
   ]
  },
  {
   "cell_type": "code",
   "execution_count": 6,
   "id": "8c4e359a-ee6a-4109-89f9-5ad298c5eaf5",
   "metadata": {},
   "outputs": [
    {
     "name": "stdout",
     "output_type": "stream",
     "text": [
      "----- SHld1GUuixylSVF4 7h47y5S2MFipq6BxVobS2DxamqIIK0pl 7h47y5S2MFipq6BxVobS2DxamqIIK0pl\n"
     ]
    }
   ],
   "source": [
    "cb_api_key = os.getenv(\"cb_api_key\")\n",
    "cb_secret = os.getenv(\"cb_secret\")\n",
    "cb_passphrase = os.getenv(\"cb_passphrase\")\n",
    "print('-----', cb_api_key, cb_secret, cb_passphrase)"
   ]
  },
  {
   "cell_type": "code",
   "execution_count": 7,
   "id": "ac29cbd2-10b5-495a-9cab-612d60656776",
   "metadata": {},
   "outputs": [
    {
     "name": "stdout",
     "output_type": "stream",
     "text": [
      "           Time       Low      High      Open     Close        Volume\n",
      "0    1626652800  30429.99  31887.82  31786.37  30735.72   8958.240610\n",
      "1    1626566400  31125.60  32450.00  31533.90  31788.25   5006.483105\n",
      "2    1626480000  31179.01  31949.99  31389.57  31533.91   5695.574116\n",
      "3    1626393600  31025.42  32259.16  31872.49  31388.06  10006.477937\n",
      "4    1626307200  31064.77  33187.60  32815.75  31868.68  11273.611740\n",
      "..          ...       ...       ...       ...       ...           ...\n",
      "295  1601164800  10595.24  10806.32  10730.00  10778.20   3880.036861\n",
      "296  1601078400  10654.58  10828.00  10690.53  10730.00   3783.397400\n",
      "297  1600992000  10551.00  10765.07  10740.00  10690.53   9690.627610\n",
      "298  1600905600  10192.56  10795.87  10237.41  10740.01   9678.393498\n",
      "299  1600819200  10135.22  10541.25  10531.13  10235.10   8893.242336\n",
      "\n",
      "[300 rows x 6 columns]\n"
     ]
    }
   ],
   "source": [
    "test = CoinbaseClient(cb_api_key, cb_secret, cb_passphrase)\n",
    "print(test.historical_data('BTC-USD', 86400))"
   ]
  },
  {
   "cell_type": "code",
   "execution_count": null,
   "id": "3ae0cbee-f0ad-4b1c-af1f-5bda6c3c2071",
   "metadata": {},
   "outputs": [],
   "source": []
  },
  {
   "cell_type": "code",
   "execution_count": null,
   "metadata": {},
   "outputs": [],
   "source": []
  }
 ],
 "metadata": {
  "kernelspec": {
   "display_name": "Python 3",
   "language": "python",
   "name": "python3"
  },
  "language_info": {
   "codemirror_mode": {
    "name": "ipython",
    "version": 3
   },
   "file_extension": ".py",
   "mimetype": "text/x-python",
   "name": "python",
   "nbconvert_exporter": "python",
   "pygments_lexer": "ipython3",
   "version": "3.8.8"
  }
 },
 "nbformat": 4,
 "nbformat_minor": 5
}